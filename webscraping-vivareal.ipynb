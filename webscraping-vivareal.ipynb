{
 "cells": [
  {
   "cell_type": "code",
   "execution_count": 9,
   "metadata": {
    "collapsed": false
   },
   "outputs": [],
   "source": [
    "from selenium import webdriver\n",
    "from selenium.common.exceptions import WebDriverException, ElementClickInterceptedException, NoSuchElementException\n",
    "from selenium.webdriver.common.by import By\n",
    "from selenium.webdriver.support.ui import WebDriverWait\n",
    "from selenium.webdriver.support import expected_conditions as EC\n",
    "from webdriver_manager.chrome import ChromeDriverManager\n",
    "from selenium.webdriver.chrome.service import Service\n",
    "from bs4 import BeautifulSoup\n",
    "import re\n",
    "import time\n",
    "import pandas as pd"
   ]
  },
  {
   "cell_type": "code",
   "execution_count": 10,
   "metadata": {},
   "outputs": [
    {
     "name": "stderr",
     "output_type": "stream",
     "text": [
      "[WDM] - Downloading: 100%|██████████| 6.30M/6.30M [00:00<00:00, 7.66MB/s]\n"
     ]
    }
   ],
   "source": [
    "servico = Service(ChromeDriverManager().install())\n",
    "driver = webdriver.Chrome(service=servico)\n",
    "driver.maximize_window()\n",
    "driver.get(r'https://www.vivareal.com.br/venda/rj/rio-de-janeiro/#area-desde=70&onde=Brasil,Rio%20de%20Janeiro,Rio%20de%20Janeiro,,,,,,BR%3ERio%20de%20Janeiro%3ENULL%3ERio%20de%20Janeiro,,,;,Rio%20de%20Janeiro,Rio%20de%20Janeiro,Zona%20Sul,Flamengo,,,neighborhood,BR%3ERio%20de%20Janeiro%3ENULL%3ERio%20de%20Janeiro%3EZona%20Sul%3EFlamengo,,,;,Rio%20de%20Janeiro,Rio%20de%20Janeiro,Zona%20Sul,Botafogo,,,neighborhood,BR%3ERio%20de%20Janeiro%3ENULL%3ERio%20de%20Janeiro%3EZona%20Sul%3EBotafogo,,,;,Rio%20de%20Janeiro,Rio%20de%20Janeiro,Zona%20Sul,Copacabana,,,neighborhood,BR%3ERio%20de%20Janeiro%3ENULL%3ERio%20de%20Janeiro%3EZona%20Sul%3ECopacabana,,,;,Rio%20de%20Janeiro,Rio%20de%20Janeiro,Zona%20Sul,Humait%C3%A1,,,neighborhood,BR%3ERio%20de%20Janeiro%3ENULL%3ERio%20de%20Janeiro%3EZona%20Sul%3EHumaita,,,;,Rio%20de%20Janeiro,Rio%20de%20Janeiro,Zona%20Sul,Ipanema,,,neighborhood,BR%3ERio%20de%20Janeiro%3ENULL%3ERio%20de%20Janeiro%3EZona%20Sul%3EIpanema,,,;,Rio%20de%20Janeiro,Rio%20de%20Janeiro,Zona%20Sul,Lagoa,,,neighborhood,BR%3ERio%20de%20Janeiro%3ENULL%3ERio%20de%20Janeiro%3EZona%20Sul%3ELagoa,,,;,Rio%20de%20Janeiro,Rio%20de%20Janeiro,Zona%20Sul,Jardim%20Bot%C3%A2nico,,,neighborhood,BR%3ERio%20de%20Janeiro%3ENULL%3ERio%20de%20Janeiro%3EZona%20Sul%3EJardim%20Botanico,,,&preco-ate=1300000')\n",
    "time.sleep(5)\n",
    "\n",
    "# Handling cookies acception (Lidando com a aceitação de cookies)\n",
    "WebDriverWait(driver, 2).until(EC.element_to_be_clickable((By.XPATH,'//*[@id=\"cookie-notifier-cta\"]'))).click()\n",
    "time.sleep(5/2)"
   ]
  },
  {
   "cell_type": "code",
   "execution_count": 8,
   "metadata": {},
   "outputs": [
    {
     "name": "stdout",
     "output_type": "stream",
     "text": [
      "Collecting pandas\n",
      "  Using cached pandas-2.0.3-cp310-cp310-win_amd64.whl (10.7 MB)\n",
      "Requirement already satisfied: python-dateutil>=2.8.2 in c:\\users\\bcesa\\anaconda3\\envs\\cvmscraper\\lib\\site-packages (from pandas) (2.8.2)\n",
      "Collecting pytz>=2020.1 (from pandas)\n",
      "  Using cached pytz-2023.3-py2.py3-none-any.whl (502 kB)\n",
      "Collecting tzdata>=2022.1 (from pandas)\n",
      "  Using cached tzdata-2023.3-py2.py3-none-any.whl (341 kB)\n",
      "Collecting numpy>=1.21.0 (from pandas)\n",
      "  Using cached numpy-1.25.1-cp310-cp310-win_amd64.whl (15.0 MB)\n",
      "Requirement already satisfied: six>=1.5 in c:\\users\\bcesa\\anaconda3\\envs\\cvmscraper\\lib\\site-packages (from python-dateutil>=2.8.2->pandas) (1.16.0)\n",
      "Installing collected packages: pytz, tzdata, numpy, pandas\n",
      "Successfully installed numpy-1.25.1 pandas-2.0.3 pytz-2023.3 tzdata-2023.3\n"
     ]
    }
   ],
   "source": [
    "! pip install pandas"
   ]
  },
  {
   "cell_type": "code",
   "execution_count": 11,
   "metadata": {},
   "outputs": [],
   "source": [
    "soup = BeautifulSoup(driver.page_source, 'html.parser')"
   ]
  },
  {
   "cell_type": "code",
   "execution_count": 25,
   "metadata": {},
   "outputs": [
    {
     "data": {
      "text/plain": [
       "'/imovel/apartamento-2-quartos-copacabana-zona-sul-rio-de-janeiro-com-garagem-85m2-venda-RS850000-id-2643792930/'"
      ]
     },
     "execution_count": 25,
     "metadata": {},
     "output_type": "execute_result"
    }
   ],
   "source": [
    "div_list = soup.find_all('div', {'class':'property-card__content'})\n",
    "div_list_link = soup.find_all('a', {'class':'property-card__content-link js-card-title'})\n",
    "div_list_link[0]['href']"
   ]
  },
  {
   "cell_type": "code",
   "execution_count": 28,
   "metadata": {},
   "outputs": [
    {
     "name": "stdout",
     "output_type": "stream",
     "text": [
      "Link https://www.vivareal.com.br/imovel/apartamento-2-quartos-copacabana-zona-sul-rio-de-janeiro-com-garagem-85m2-venda-RS850000-id-2643792930/\n"
     ]
    }
   ],
   "source": [
    "for d,l in zip(div_list, div_list_link):\n",
    "  \n",
    "    print(\"Link\", \"{}{}\".format('https://www.vivareal.com.br', l.get('href')))\n",
    "    break"
   ]
  },
  {
   "cell_type": "code",
   "execution_count": null,
   "metadata": {},
   "outputs": [],
   "source": []
  },
  {
   "cell_type": "markdown",
   "metadata": {
    "collapsed": false
   },
   "source": []
  },
  {
   "cell_type": "code",
   "execution_count": 29,
   "metadata": {
    "collapsed": false
   },
   "outputs": [
    {
     "name": "stdout",
     "output_type": "stream",
     "text": [
      "Got 36 results! Total Found: 36\n",
      "Got 36 results! Total Found: 72\n",
      "Got 36 results! Total Found: 108\n",
      "Got 36 results! Total Found: 144\n",
      "Got 36 results! Total Found: 180\n",
      "Got 36 results! Total Found: 216\n",
      "Got 36 results! Total Found: 252\n",
      "Got 36 results! Total Found: 288\n",
      "Got 36 results! Total Found: 324\n",
      "Got 36 results! Total Found: 360\n",
      "Got 36 results! Total Found: 396\n",
      "Got 36 results! Total Found: 432\n",
      "Got 36 results! Total Found: 468\n",
      "Got 36 results! Total Found: 504\n",
      "Got 36 results! Total Found: 540\n",
      "Got 36 results! Total Found: 576\n",
      "Got 36 results! Total Found: 612\n",
      "Got 36 results! Total Found: 648\n",
      "Got 36 results! Total Found: 684\n",
      "Got 36 results! Total Found: 720\n",
      "Got 36 results! Total Found: 756\n",
      "Got 36 results! Total Found: 792\n",
      "Got 36 results! Total Found: 828\n",
      "Got 36 results! Total Found: 864\n",
      "Got 36 results! Total Found: 900\n",
      "Got 36 results! Total Found: 936\n",
      "Got 36 results! Total Found: 972\n",
      "Got 36 results! Total Found: 1008\n",
      "Got 36 results! Total Found: 1044\n",
      "Got 36 results! Total Found: 1080\n",
      "Got 36 results! Total Found: 1116\n",
      "Got 36 results! Total Found: 1152\n",
      "Got 36 results! Total Found: 1188\n",
      "Got 36 results! Total Found: 1224\n",
      "Got 36 results! Total Found: 1260\n",
      "Got 36 results! Total Found: 1296\n",
      "Got 36 results! Total Found: 1332\n",
      "Got 36 results! Total Found: 1368\n",
      "Got 36 results! Total Found: 1404\n",
      "Got 36 results! Total Found: 1440\n",
      "Got 36 results! Total Found: 1476\n",
      "Got 36 results! Total Found: 1512\n",
      "Got 36 results! Total Found: 1548\n",
      "Got 36 results! Total Found: 1584\n",
      "Got 36 results! Total Found: 1620\n",
      "Got 36 results! Total Found: 1656\n",
      "Got 36 results! Total Found: 1692\n"
     ]
    }
   ],
   "source": [
    "class ScraperVivaReal:\n",
    "    wait_time = 5\n",
    "\n",
    "    def __init__(self, url):\n",
    "        # Initializing the webdriver (Inicializando o webdriver)\n",
    "\n",
    "        servico = Service(ChromeDriverManager().install())\n",
    "        self.driver = webdriver.Chrome(service=servico)\n",
    "        self.driver.maximize_window()\n",
    "        self.driver.get(url)\n",
    "        time.sleep(self.wait_time)\n",
    "\n",
    "        # Handling cookies acception (Lidando com a aceitação de cookies)\n",
    "        WebDriverWait(self.driver, self.wait_time).until(EC.element_to_be_clickable((By.XPATH,'//*[@id=\"cookie-notifier-cta\"]'))).click()\n",
    "        time.sleep(self.wait_time/2)\n",
    "\n",
    "    def __scrape_page__(self):\n",
    "        result = []\n",
    "\n",
    "        # Extracting data from the page (Extraindo dados da página)\n",
    "        try:\n",
    "            soup = BeautifulSoup(self.driver.page_source, 'html.parser')\n",
    "        except WebDriverException:\n",
    "            print('Webdriver was manually quit by the user!') # I configure this exception before adding the option -headless to webdriver\n",
    "            # Eu configuro esta exceção antes de adicionar a opção -headless ao webdriver\n",
    "            return result\n",
    "\n",
    "        # Finding property cards containing search results\n",
    "        # Encontrar cartões de propriedade contendo resultados de pesquisa\n",
    "        div_list = soup.find_all('div', {'class':'property-card__content'})\n",
    "        div_list_link = soup.find_all('a', {'class':'property-card__content-link js-card-title'})\n",
    "\n",
    "        # Iterating each card\n",
    "        # Iterando cada cartão\n",
    "        for d,l in zip(div_list, div_list_link):\n",
    "\n",
    "            # Extracting info from card\n",
    "            # Extraindo informações do cartão\n",
    "            title = d.find('span', {'class': 'property-card__title js-cardLink js-card-title'}).get_text().strip()\n",
    "            complete_address = d.find('span', {'class': 'property-card__address'}).get_text().strip()\n",
    "            area = d.find('span', {'class': 'property-card__detail-value js-property-card-value property-card__detail-area js-property-card-detail-area'}).get_text().strip()\n",
    "            rooms = d.find('li', {'class': 'property-card__detail-item property-card__detail-room js-property-detail-rooms'}).find('span', {'class': 'property-card__detail-value js-property-card-value'}).get_text().strip()\n",
    "            baths = d.find('li', {'class': 'property-card__detail-item property-card__detail-bathroom js-property-detail-bathroom'}).find('span', {'class': 'property-card__detail-value js-property-card-value'}).get_text().strip()\n",
    "            garage = d.find('li', {'class': 'property-card__detail-item property-card__detail-garage js-property-detail-garages'}).find('span', {'class': 'property-card__detail-value js-property-card-value'}).get_text().strip()\n",
    "            url = \"{}{}\".format('https://www.vivareal.com.br', l.get('href'))\n",
    "            # Extracting the price\n",
    "            # Extraindo o preço\n",
    "            try:\n",
    "                price = d.find('div', {'class':'property-card__price js-property-card-prices js-property-card__price-small'}).find('p').get_text().strip()\n",
    "            except AttributeError:\n",
    "                price = \"N/I\"\n",
    "\n",
    "            # Splitting the address\n",
    "            # Dividindo o endereço\n",
    "            add_list = re.split(',|-', complete_address)\n",
    "            add_list = [ item.strip() for item in add_list ]\n",
    "            if len(add_list) == 2:\n",
    "                city, st = add_list\n",
    "                neibhood = 'N/I'\n",
    "                address = 'N/I'\n",
    "                number = 'N/I'\n",
    "            if len(add_list) == 3:\n",
    "                neibhood, city, st = add_list\n",
    "                address = 'N/I'\n",
    "                number = 'N/I'\n",
    "            if len(add_list) == 4:\n",
    "                address, neibhood, city, st = add_list\n",
    "                number = 'N/I'\n",
    "            elif len(add_list) == 5:\n",
    "                address, number, neibhood, city, st = add_list\n",
    "\n",
    "            # Adding the result into a dicionary and appending the dict to a result list\n",
    "            # Adicionar o resultado a um dicionário e anexar o dict a uma lista de resultados\n",
    "            row = { 'Título': title, 'Endereço': address, 'Número': number, 'Bairro': neibhood, 'Cidade': city, 'Estado': st, 'Área': area, 'Quartos': rooms, 'Banheiros': baths, 'Vagas': garage, 'Preço': price , 'URL': url}\n",
    "            result.append(row)\n",
    "        return result\n",
    "\n",
    "    def __next_page__(self):\n",
    "        # Finding the \"Next Page\" button element\n",
    "        # Encontrando o elemento do botão \"Próxima página\"\n",
    "        next_element = self.driver.find_element('xpath', f'//*[@id=\"js-site-main\"]/div[2]/div[1]/section/div[2]/div[2]/div/ul/li[9]/button')\n",
    "\n",
    "        try:\n",
    "            # Trying to click it (Tentando clicar nele)\n",
    "            next_element.click()\n",
    "            time.sleep(self.wait_time)\n",
    "            return True\n",
    "        # Treating some exceptions (element not found and element not clickable)\n",
    "        # Tratando algumas exceções (elemento não encontrado e elemento não clicável)\n",
    "        except ElementClickInterceptedException:\n",
    "            print('\"Próxima Página\" element is not clickable!')\n",
    "        except NoSuchElementException:\n",
    "            print('\"Próxima Página\" element not found!')\n",
    "        return False\n",
    "\n",
    "    def run(self, output):\n",
    "        has_next = True\n",
    "        final_result = []\n",
    "        # Getting the information!\n",
    "        # Obtendo as informações!\n",
    "        while has_next:\n",
    "            results = self.__scrape_page__()\n",
    "            final_result.extend(results)\n",
    "            print('Got {} results! Total Found: {}'.format(len(results), len(final_result)))\n",
    "            if len(results) == 0:\n",
    "                break\n",
    "            has_next = self.__next_page__()\n",
    "        # Quitting Chrome\n",
    "        # Saindo do Chrome\n",
    "        self.driver.quit()\n",
    "        # Exporting results to CSV\n",
    "        # Exportando resultados para CSV\n",
    "        df = pd.DataFrame(final_result)\n",
    "        df.to_csv(output, sep=',')\n",
    "\n",
    "S = ScraperVivaReal('https://www.vivareal.com.br/venda/rj/rio-de-janeiro/#area-desde=70&onde=Brasil,Rio%20de%20Janeiro,Rio%20de%20Janeiro,,,,,,BR%3ERio%20de%20Janeiro%3ENULL%3ERio%20de%20Janeiro,,,;,Rio%20de%20Janeiro,Rio%20de%20Janeiro,Zona%20Sul,Flamengo,,,neighborhood,BR%3ERio%20de%20Janeiro%3ENULL%3ERio%20de%20Janeiro%3EZona%20Sul%3EFlamengo,,,;,Rio%20de%20Janeiro,Rio%20de%20Janeiro,Zona%20Sul,Botafogo,,,neighborhood,BR%3ERio%20de%20Janeiro%3ENULL%3ERio%20de%20Janeiro%3EZona%20Sul%3EBotafogo,,,;,Rio%20de%20Janeiro,Rio%20de%20Janeiro,Zona%20Sul,Copacabana,,,neighborhood,BR%3ERio%20de%20Janeiro%3ENULL%3ERio%20de%20Janeiro%3EZona%20Sul%3ECopacabana,,,;,Rio%20de%20Janeiro,Rio%20de%20Janeiro,Zona%20Sul,Humait%C3%A1,,,neighborhood,BR%3ERio%20de%20Janeiro%3ENULL%3ERio%20de%20Janeiro%3EZona%20Sul%3EHumaita,,,;,Rio%20de%20Janeiro,Rio%20de%20Janeiro,Zona%20Sul,Ipanema,,,neighborhood,BR%3ERio%20de%20Janeiro%3ENULL%3ERio%20de%20Janeiro%3EZona%20Sul%3EIpanema,,,;,Rio%20de%20Janeiro,Rio%20de%20Janeiro,Zona%20Sul,Lagoa,,,neighborhood,BR%3ERio%20de%20Janeiro%3ENULL%3ERio%20de%20Janeiro%3EZona%20Sul%3ELagoa,,,;,Rio%20de%20Janeiro,Rio%20de%20Janeiro,Zona%20Sul,Jardim%20Bot%C3%A2nico,,,neighborhood,BR%3ERio%20de%20Janeiro%3ENULL%3ERio%20de%20Janeiro%3EZona%20Sul%3EJardim%20Botanico,,,&preco-ate=1300000')\n",
    "S.run('output.csv')"
   ]
  },
  {
   "cell_type": "code",
   "execution_count": 5,
   "metadata": {
    "collapsed": false
   },
   "outputs": [],
   "source": [
    "df = pd.read_csv('output.csv')"
   ]
  },
  {
   "cell_type": "code",
   "execution_count": 7,
   "metadata": {},
   "outputs": [],
   "source": [
    "df.to_excel('output.xlsx', index=False)"
   ]
  },
  {
   "cell_type": "code",
   "execution_count": null,
   "metadata": {},
   "outputs": [],
   "source": []
  }
 ],
 "metadata": {
  "kernelspec": {
   "display_name": "selenium",
   "language": "python",
   "name": "python3"
  },
  "language_info": {
   "codemirror_mode": {
    "name": "ipython",
    "version": 3
   },
   "file_extension": ".py",
   "mimetype": "text/x-python",
   "name": "python",
   "nbconvert_exporter": "python",
   "pygments_lexer": "ipython3",
   "version": "3.10.11"
  },
  "vscode": {
   "interpreter": {
    "hash": "5a28179086aab7332930473ac3696840b241d425ce047cdc3ae4aecfa19816f9"
   }
  }
 },
 "nbformat": 4,
 "nbformat_minor": 0
}
